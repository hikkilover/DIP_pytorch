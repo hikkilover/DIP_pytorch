{
 "cells": [
  {
   "cell_type": "code",
   "execution_count": 10,
   "metadata": {
    "collapsed": true
   },
   "outputs": [],
   "source": [
    "from record import measureRecord\n",
    "from measure import PSNR, SSIM\n",
    "import numpy as np\n",
    "from PIL import Image"
   ]
  },
  {
   "cell_type": "code",
   "execution_count": 11,
   "metadata": {
    "collapsed": true
   },
   "outputs": [],
   "source": [
    "# mode = 'SINGLE'\n",
    "mode = 'FOLDER'\n",
    "origin_image_path = 'images/image_Baboon512rgb.png'\n",
    "\n",
    "# params for SINGLE mode\n",
    "# single_processed_image_path = 'result/denosing/Baboon512rgb_noi_s40_dc_skip54_InputVib/20.png'\n",
    "\n",
    "# params for FOLDER mode\n",
    "bathPath = '../DIP_result/denoising/'\n",
    "expName = 'test'\n",
    "imageNumber = 3"
   ]
  },
  {
   "cell_type": "code",
   "execution_count": 12,
   "metadata": {},
   "outputs": [
    {
     "name": "stdout",
     "output_type": "stream",
     "text": [
      "[PSNR][0.png] 11.591890\n",
      "[PSNR][1.png] 12.400715\n",
      "[PSNR][2.png] 12.796195\n"
     ]
    }
   ],
   "source": [
    "if mode == 'SINGLE':\n",
    "    o_np = np.array(Image.open(origin_image_path))\n",
    "    p_np = np.array(Image.open(single_processed_image_path))\n",
    "    print(PSNR(o_np, p_np))\n",
    "    # print(SSIM(o_np, p_np))\n",
    "elif mode == 'FOLDER':\n",
    "    record = measureRecord(basePath=bathPath,\n",
    "                               expName=expName,\n",
    "                               author='Bruce Wayne',\n",
    "                               describe='test measure')\n",
    "    record.open()\n",
    "    o_np = np.array(Image.open(origin_image_path))\n",
    "    record.add_message('Origin image: %s' % origin_image_path)\n",
    "    for i in range(imageNumber):\n",
    "        processed_image_path = record.dirPath + str(i) + '.png'\n",
    "        p_np = np.array(Image.open(processed_image_path))\n",
    "        psnr = PSNR(o_np, p_np)\n",
    "        print_message = '[PSNR]'+'[%d.png] %f' % (i, psnr)  \n",
    "        print (print_message)\n",
    "        record.add_message(print_message)"
   ]
  },
  {
   "cell_type": "code",
   "execution_count": null,
   "metadata": {
    "collapsed": true
   },
   "outputs": [],
   "source": [
    " record.close()"
   ]
  }
 ],
 "metadata": {
  "kernelspec": {
   "display_name": "Python 2",
   "language": "python",
   "name": "python2"
  },
  "language_info": {
   "codemirror_mode": {
    "name": "ipython",
    "version": 2
   },
   "file_extension": ".py",
   "mimetype": "text/x-python",
   "name": "python",
   "nbconvert_exporter": "python",
   "pygments_lexer": "ipython2",
   "version": "2.7.13"
  }
 },
 "nbformat": 4,
 "nbformat_minor": 2
}
