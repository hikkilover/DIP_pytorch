{
 "cells": [
  {
   "cell_type": "code",
   "execution_count": 8,
   "metadata": {
    "collapsed": true
   },
   "outputs": [],
   "source": [
    "from util.recorder import measureRecord\n",
    "from util.measure import PSNR, SSIM\n",
    "import numpy as np\n",
    "from PIL import Image"
   ]
  },
  {
   "cell_type": "code",
   "execution_count": 9,
   "metadata": {
    "collapsed": true
   },
   "outputs": [],
   "source": [
    "# mode = 'SINGLE'\n",
    "mode = 'FOLDER'\n",
    "origin_image_path = 'images/3.png'\n",
    "\n",
    "# params for SINGLE mode\n",
    "# single_processed_image_path = 'result/denosing/Baboon512rgb_noi_s40_dc_skip54_InputVib/20.png'\n",
    "\n",
    "# params for FOLDER mode\n",
    "bathPath = '../DIP_result/denoising/'\n",
    "expName = 'chl_3'\n",
    "imageNumber = 21"
   ]
  },
  {
   "cell_type": "code",
   "execution_count": null,
   "metadata": {
    "collapsed": true
   },
   "outputs": [],
   "source": [
    ""
   ]
  },
  {
   "cell_type": "code",
   "execution_count": 10,
   "metadata": {},
   "outputs": [
    {
     "name": "stdout",
     "output_type": "stream",
     "text": [
      "[PSNR][0.png] 11.781853\n",
      "[PSNR][1.png] 16.617185\n",
      "[PSNR][2.png] 16.876504\n",
      "[PSNR][3.png] 17.155200\n",
      "[PSNR][4.png] 17.439280\n",
      "[PSNR][5.png] 17.709996\n",
      "[PSNR][6.png] 17.978140\n",
      "[PSNR][7.png] 18.226884\n",
      "[PSNR][8.png] 18.462205\n",
      "[PSNR][9.png] 18.653171\n",
      "[PSNR][10.png] 18.861323\n",
      "[PSNR][11.png] 19.028855\n",
      "[PSNR][12.png] 19.183185\n",
      "[PSNR][13.png] 19.310433\n",
      "[PSNR][14.png] 19.427957\n",
      "[PSNR][15.png] 19.547616\n",
      "[PSNR][16.png] 19.639646\n",
      "[PSNR][17.png] 19.707128\n",
      "[PSNR][18.png] 19.764588\n",
      "[PSNR][19.png] 19.810359\n",
      "[PSNR][20.png] 19.852068\n"
     ]
    }
   ],
   "source": [
    "if mode == 'SINGLE':\n",
    "    o_np = np.array(Image.open(origin_image_path))\n",
    "    p_np = np.array(Image.open(single_processed_image_path))\n",
    "    print(PSNR(o_np, p_np))\n",
    "    # print(SSIM(o_np, p_np))\n",
    "elif mode == 'FOLDER':\n",
    "    record = measureRecord(basePath=bathPath,\n",
    "                               expName=expName,\n",
    "                               author='Bruce Wayne',\n",
    "                               describe='test measure')\n",
    "    record.open()\n",
    "    o_np = np.array(Image.open(origin_image_path))\n",
    "    record.add_message('Origin image: %s' % origin_image_path)\n",
    "    for i in range(imageNumber):\n",
    "        processed_image_path = record.dirPath + str(i) + '.png'\n",
    "        p_np = np.array(Image.open(processed_image_path))\n",
    "        psnr = PSNR(o_np, p_np)\n",
    "        print_message = '[PSNR]'+'[%d.png] %f' % (i, psnr)  \n",
    "        print (print_message)\n",
    "        record.add_message(print_message)"
   ]
  },
  {
   "cell_type": "code",
   "execution_count": null,
   "metadata": {
    "collapsed": true
   },
   "outputs": [],
   "source": [
    "record.close()"
   ]
  }
 ],
 "metadata": {
  "kernelspec": {
   "display_name": "Python 2",
   "language": "python",
   "name": "python2"
  },
  "language_info": {
   "codemirror_mode": {
    "name": "ipython",
    "version": 2.0
   },
   "file_extension": ".py",
   "mimetype": "text/x-python",
   "name": "python",
   "nbconvert_exporter": "python",
   "pygments_lexer": "ipython2",
   "version": "2.7.13"
  }
 },
 "nbformat": 4,
 "nbformat_minor": 0
}