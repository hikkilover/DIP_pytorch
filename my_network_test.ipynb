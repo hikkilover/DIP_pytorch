{
 "cells": [
  {
   "cell_type": "code",
   "execution_count": 16,
   "metadata": {},
   "outputs": [],
   "source": [
    "import torch.nn as nn\n",
    "import json\n",
    "import numpy as np\n",
    "from collections import OrderedDict\n",
    "\n",
    "class netSuperparams(object):\n",
    "    def __init__(self):\n",
    "        self.name = 'Default Network'\n",
    "\n",
    "hnet_params_set = set(['down_layers_kernels','down_mode','down_kernels_size',\n",
    "                       'up_layers_kernels','up_mode','up_kernels_size',\n",
    "                       'skip_layers_kernels','skip_mode','skip_kernels_size',\n",
    "                       'name'])\n",
    "\n",
    "class hourglassNetSuperparams(netSuperparams):\n",
    "    def __init__(self, jsonFile):\n",
    "        super(hourglassNetSuperparams, self).__init__()\n",
    "        \n",
    "        with open (jsonFile) as jf:\n",
    "            rowDict = json.load(jf, object_pairs_hook=OrderedDict)\n",
    "        assert set(rowDict.keys()) == hnet_params_set\n",
    "        for key in rowDict.keys():\n",
    "            self.__dict__[key] = rowDict[key]\n",
    "        assert len(self.down_layers_kernels) - 1 == len(self.up_layers_kernels)\n",
    "        assert len(self.skip_layers_kernels) == len(self.up_layers_kernels)\n",
    "        \n",
    "def down_layer(ch_in, ch_out, kernel_size, stride, padding, mode='conv'):\n",
    "    if mode == 'conv':\n",
    "        return nn.Sequential(\n",
    "                    nn.Conv2d(ch_in, ch_out, kernel_size, stride, padding),\n",
    "                    nn.BatchNorm2d(ch_out),\n",
    "                    nn.ReLU())\n",
    "\n",
    "def up_layer(ch_in, ch_out, kernel_size, stride, padding, act = 'relu',mode='deconv'):\n",
    "    if (mode == 'deconv'):\n",
    "        if (act == 'relu'):\n",
    "            return nn.Sequential(nn.ConvTranspose2d(ch_in, ch_out, kernel_size, stride, padding),\n",
    "                   nn.BatchNorm2d(ch_out),\n",
    "                   nn.ReLU())\n",
    "        elif (act == 'sigmoid'):\n",
    "            return nn.Sequential(nn.ConvTranspose2d(ch_in, ch_out, kernel_size, stride, padding),\n",
    "                   nn.BatchNorm2d(ch_out),\n",
    "                   nn.Sigmoid())\n",
    "    \n",
    "def skip_layer(ch_in, ch_out, kernel_size, stride, padding, mode='conv'):\n",
    "    if mode == 'conv':\n",
    "        return nn.Sequential(\n",
    "                    nn.Conv2d(ch_in, ch_out, kernel_size, stride, padding),\n",
    "                    nn.BatchNorm2d(ch_out),\n",
    "                    nn.ReLU())\n",
    "\n",
    "class hourglass_network(nn.Module):\n",
    "    def __init__(self, json, ch_in=3):\n",
    "        super(hourglass_network, self).__init__()\n",
    "\n",
    "        self.NSP = hourglassNetSuperparams(json)\n",
    "        # bulid down layers\n",
    "        ch_pre = ch_in\n",
    "        for key , value in self.NSP.down_layers_kernels.items():\n",
    "            self._modules[key] = down_layer(ch_pre, value, self.NSP.down_kernels_size, 2,  2)\n",
    "            ch_pre = value\n",
    "\n",
    "        # build up layers\n",
    "        for key, value in self.NSP.up_layers_kernels.items():\n",
    "            if self.NSP.skip_layers_kernels['s'+key[-1]] !=0:\n",
    "                value_without_skip = value - self.NSP.skip_layers_kernels['s'+key[-1]]\n",
    "            else:\n",
    "                value_without_skip = value\n",
    "            self._modules[key] = up_layer(ch_pre, value_without_skip, self.NSP.up_kernels_size, 2,  1, act = 'relu',mode='deconv')\n",
    "            ch_pre = value\n",
    "\n",
    "        # build out layer\n",
    "        self.out = up_layer(ch_pre, ch_in, self.NSP.up_kernels_size, 2, 1,  act = 'sigmoid',mode='deconv')\n",
    "\n",
    "        # build skip layers\n",
    "        for key , value in self.NSP.skip_layers_kernels.items():\n",
    "            if value != 0:\n",
    "                ch_pre = self.NSP.down_layers_kernels['d'+key[-1]]\n",
    "                self._modules[key] = skip_layer(ch_pre, value, self.NSP.skip_kernels_size, 1, 2)\n",
    "\n",
    "    def forward(self, input):\n",
    "        feature = {'input' : input}\n",
    "        pre_key = 'input'\n",
    "        for key in self.NSP.down_layers_kernels.keys():\n",
    "            feature[key] = self._modules[key](feature[pre_key])\n",
    "            pre_key = key\n",
    "        for key in self.NSP.skip_layers_kernels.keys():\n",
    "            if self.NSP.skip_layers_kernels[key] != 0:\n",
    "                feature[key] = self._modules[key](feature['d'+key[-1]])\n",
    "        for key in self.NSP.up_layers_kernels.keys():\n",
    "            out = self._modules[key](feature[pre_key])\n",
    "            if self.NSP.skip_layers_kernels['s'+key[-1]] != 0:\n",
    "                feature[key] = torch.cat([out, feature['s'+key[-1]]], 1)\n",
    "            else:\n",
    "                feature[key] = out\n",
    "            pre_key = key\n",
    "        out = self.out(feature[pre_key])\n",
    "        return out "
   ]
  },
  {
   "cell_type": "code",
   "execution_count": 17,
   "metadata": {
    "collapsed": true
   },
   "outputs": [],
   "source": [
    "def get_params_list(net):\n",
    "    params = []\n",
    "    params_num = 0\n",
    "    for x in net.parameters():\n",
    "        params.append(x)\n",
    "        params_num += np.prod(list(x.size()))\n",
    "    return params,params_num"
   ]
  },
  {
   "cell_type": "code",
   "execution_count": 18,
   "metadata": {},
   "outputs": [],
   "source": [
    " net = hourglass_network(\"net.json\")"
   ]
  },
  {
   "cell_type": "code",
   "execution_count": 19,
   "metadata": {
    "collapsed": true
   },
   "outputs": [],
   "source": [
    "_,num = get_params_list(net)\n"
   ]
  },
  {
   "cell_type": "code",
   "execution_count": 20,
   "metadata": {},
   "outputs": [
    {
     "data": {
      "text/plain": [
       "1786545"
      ]
     },
     "execution_count": 20,
     "metadata": {},
     "output_type": "execute_result"
    }
   ],
   "source": [
    "num\n"
   ]
  },
  {
   "cell_type": "code",
   "execution_count": 21,
   "metadata": {},
   "outputs": [
    {
     "data": {
      "text/plain": [
       "OrderedDict([(u'd1', Sequential (\n",
       "                (0): Conv2d(3, 8, kernel_size=(5, 5), stride=(2, 2), padding=(2, 2))\n",
       "                (1): BatchNorm2d(8, eps=1e-05, momentum=0.1, affine=True)\n",
       "                (2): ReLU ()\n",
       "              )), (u'd2', Sequential (\n",
       "                (0): Conv2d(8, 16, kernel_size=(5, 5), stride=(2, 2), padding=(2, 2))\n",
       "                (1): BatchNorm2d(16, eps=1e-05, momentum=0.1, affine=True)\n",
       "                (2): ReLU ()\n",
       "              )), (u'd3', Sequential (\n",
       "                (0): Conv2d(16, 32, kernel_size=(5, 5), stride=(2, 2), padding=(2, 2))\n",
       "                (1): BatchNorm2d(32, eps=1e-05, momentum=0.1, affine=True)\n",
       "                (2): ReLU ()\n",
       "              )), (u'd4', Sequential (\n",
       "                (0): Conv2d(32, 64, kernel_size=(5, 5), stride=(2, 2), padding=(2, 2))\n",
       "                (1): BatchNorm2d(64, eps=1e-05, momentum=0.1, affine=True)\n",
       "                (2): ReLU ()\n",
       "              )), (u'd5', Sequential (\n",
       "                (0): Conv2d(64, 128, kernel_size=(5, 5), stride=(2, 2), padding=(2, 2))\n",
       "                (1): BatchNorm2d(128, eps=1e-05, momentum=0.1, affine=True)\n",
       "                (2): ReLU ()\n",
       "              )), (u'mid', Sequential (\n",
       "                (0): Conv2d(128, 256, kernel_size=(5, 5), stride=(2, 2), padding=(2, 2))\n",
       "                (1): BatchNorm2d(256, eps=1e-05, momentum=0.1, affine=True)\n",
       "                (2): ReLU ()\n",
       "              )), (u'u5', Sequential (\n",
       "                (0): ConvTranspose2d(256, 124, kernel_size=(4, 4), stride=(2, 2), padding=(1, 1))\n",
       "                (1): BatchNorm2d(124, eps=1e-05, momentum=0.1, affine=True)\n",
       "                (2): ReLU ()\n",
       "              )), (u'u4', Sequential (\n",
       "                (0): ConvTranspose2d(128, 60, kernel_size=(4, 4), stride=(2, 2), padding=(1, 1))\n",
       "                (1): BatchNorm2d(60, eps=1e-05, momentum=0.1, affine=True)\n",
       "                (2): ReLU ()\n",
       "              )), (u'u3', Sequential (\n",
       "                (0): ConvTranspose2d(64, 28, kernel_size=(4, 4), stride=(2, 2), padding=(1, 1))\n",
       "                (1): BatchNorm2d(28, eps=1e-05, momentum=0.1, affine=True)\n",
       "                (2): ReLU ()\n",
       "              )), (u'u2', Sequential (\n",
       "                (0): ConvTranspose2d(32, 16, kernel_size=(4, 4), stride=(2, 2), padding=(1, 1))\n",
       "                (1): BatchNorm2d(16, eps=1e-05, momentum=0.1, affine=True)\n",
       "                (2): ReLU ()\n",
       "              )), (u'u1', Sequential (\n",
       "                (0): ConvTranspose2d(16, 8, kernel_size=(4, 4), stride=(2, 2), padding=(1, 1))\n",
       "                (1): BatchNorm2d(8, eps=1e-05, momentum=0.1, affine=True)\n",
       "                (2): ReLU ()\n",
       "              )), ('out', Sequential (\n",
       "                (0): ConvTranspose2d(8, 3, kernel_size=(4, 4), stride=(2, 2), padding=(1, 1))\n",
       "                (1): BatchNorm2d(3, eps=1e-05, momentum=0.1, affine=True)\n",
       "                (2): Sigmoid ()\n",
       "              )), (u's3', Sequential (\n",
       "                (0): Conv2d(32, 4, kernel_size=(5, 5), stride=(1, 1), padding=(2, 2))\n",
       "                (1): BatchNorm2d(4, eps=1e-05, momentum=0.1, affine=True)\n",
       "                (2): ReLU ()\n",
       "              )), (u's4', Sequential (\n",
       "                (0): Conv2d(64, 4, kernel_size=(5, 5), stride=(1, 1), padding=(2, 2))\n",
       "                (1): BatchNorm2d(4, eps=1e-05, momentum=0.1, affine=True)\n",
       "                (2): ReLU ()\n",
       "              )), (u's5', Sequential (\n",
       "                (0): Conv2d(128, 4, kernel_size=(5, 5), stride=(1, 1), padding=(2, 2))\n",
       "                (1): BatchNorm2d(4, eps=1e-05, momentum=0.1, affine=True)\n",
       "                (2): ReLU ()\n",
       "              ))])"
      ]
     },
     "execution_count": 21,
     "metadata": {},
     "output_type": "execute_result"
    }
   ],
   "source": [
    "net._modules"
   ]
  },
  {
   "cell_type": "code",
   "execution_count": null,
   "metadata": {
    "collapsed": true
   },
   "outputs": [],
   "source": []
  }
 ],
 "metadata": {
  "kernelspec": {
   "display_name": "Python 2",
   "language": "python",
   "name": "python2"
  },
  "language_info": {
   "codemirror_mode": {
    "name": "ipython",
    "version": 2
   },
   "file_extension": ".py",
   "mimetype": "text/x-python",
   "name": "python",
   "nbconvert_exporter": "python",
   "pygments_lexer": "ipython2",
   "version": "2.7.13"
  }
 },
 "nbformat": 4,
 "nbformat_minor": 2
}
