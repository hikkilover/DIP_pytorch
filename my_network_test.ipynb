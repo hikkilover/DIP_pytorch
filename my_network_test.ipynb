{
 "cells": [
  {
   "cell_type": "code",
   "execution_count": 57,
   "metadata": {},
   "outputs": [],
   "source": [
    "import torch\n",
    "import torch.nn as nn\n",
    "from collections import OrderedDict\n",
    "import numpy as np\n",
    "from torch.autograd import Variable\n",
    "\n",
    "class hourglass_deconv_network(nn.Module):\n",
    "    def __init__(self):\n",
    "        super(hourglass_deconv_network, self).__init__()\n",
    "        ch_in = 3\n",
    "        ch_pre = ch_in\n",
    "        self.down_layers_kernels = OrderedDict([(\"d1\", 8), (\"d2\", 16), (\"d3\", 32), (\"d4\", 64), (\"d5\", 128), (\"mid\", 256)])\n",
    "        self.down_kernels_size = 5\n",
    "        self.up_layers_kernels =  OrderedDict([(\"u5\", 128), (\"u4\", 64), (\"u3\", 32), (\"u2\", 16), (\"u1\", 8)])\n",
    "        self.up_kernels_size = 4\n",
    "        self.skip_layers_kernels =  OrderedDict([(\"s5\", 4), (\"s4\", 4), (\"s3\", 4), (\"s2\", 0), (\"s1\", 0)])\n",
    "        self.skip_kernels_size = 5\n",
    "        # bulid down layers\n",
    "        for key , value in self.down_layers_kernels.items():\n",
    "            self._modules[key] = nn.Sequential(\n",
    "                nn.Conv2d(ch_pre, value, self.down_kernels_size, 2,  2),\n",
    "                nn.BatchNorm2d(value),\n",
    "                nn.ReLU())\n",
    "            ch_pre = value\n",
    "\n",
    "        # build up layers\n",
    "        for key, value in self.up_layers_kernels.items():\n",
    "            if self.skip_layers_kernels['s'+key[-1]] !=0:\n",
    "                value_without_skip = value - self.skip_layers_kernels['s'+key[-1]]\n",
    "            else:\n",
    "                value_without_skip = value\n",
    "            self._modules[key] = nn.Sequential(\n",
    "                nn.ConvTranspose2d(ch_pre, value_without_skip, self.up_kernels_size, 2, 1),\n",
    "                nn.BatchNorm2d(value_without_skip),\n",
    "                nn.ReLU())\n",
    "            ch_pre = value\n",
    "\n",
    "        # build out layer\n",
    "        self.out = nn.Sequential(\n",
    "            nn.ConvTranspose2d(ch_pre, ch_in, self.up_kernels_size, 2, 1),\n",
    "            nn.BatchNorm2d(ch_in),\n",
    "            nn.Sigmoid())\n",
    "\n",
    "        # build skip layers\n",
    "        for key , value in self.skip_layers_kernels.items():\n",
    "            if value != 0:\n",
    "                ch_pre = self.down_layers_kernels['d'+key[-1]]\n",
    "                self._modules[key] =  nn.Sequential(\n",
    "                    nn.Conv2d(ch_pre, value, self.skip_kernels_size, 1, 2),\n",
    "                    nn.BatchNorm2d(value),\n",
    "                    nn.ReLU())\n",
    "\n",
    "    def forward(self, input):\n",
    "        feature = {'input' : input}\n",
    "        pre_key = 'input'\n",
    "        for key in self.down_layers_kernels.keys():\n",
    "            feature[key] = self._modules[key](feature[pre_key])\n",
    "            pre_key = key\n",
    "        for key in self.skip_layers_kernels.keys():\n",
    "            if self.skip_layers_kernels[key] != 0:\n",
    "                feature[key] = self._modules[key](feature['d'+key[-1]])\n",
    "        for key in self.up_layers_kernels.keys():\n",
    "            out = self._modules[key](feature[pre_key])\n",
    "            if self.skip_layers_kernels['s'+key[-1]] != 0:\n",
    "                print(out.data.shape)\n",
    "                print(feature['s'+key[-1]].data.shape)\n",
    "                feature[key] = torch.cat([out, feature['s'+key[-1]]], 1)\n",
    "            else:\n",
    "                feature[key] = out\n",
    "            pre_key = key\n",
    "        out = self.out(feature[pre_key])\n",
    "        return out\n"
   ]
  },
  {
   "cell_type": "code",
   "execution_count": 58,
   "metadata": {},
   "outputs": [
    {
     "data": {
      "text/plain": [
       "OrderedDict([('d1', Sequential (\n",
       "                (0): Conv2d(3, 8, kernel_size=(5, 5), stride=(2, 2), padding=(2, 2))\n",
       "                (1): BatchNorm2d(8, eps=1e-05, momentum=0.1, affine=True)\n",
       "                (2): ReLU ()\n",
       "              )), ('d2', Sequential (\n",
       "                (0): Conv2d(8, 16, kernel_size=(5, 5), stride=(2, 2), padding=(2, 2))\n",
       "                (1): BatchNorm2d(16, eps=1e-05, momentum=0.1, affine=True)\n",
       "                (2): ReLU ()\n",
       "              )), ('d3', Sequential (\n",
       "                (0): Conv2d(16, 32, kernel_size=(5, 5), stride=(2, 2), padding=(2, 2))\n",
       "                (1): BatchNorm2d(32, eps=1e-05, momentum=0.1, affine=True)\n",
       "                (2): ReLU ()\n",
       "              )), ('d4', Sequential (\n",
       "                (0): Conv2d(32, 64, kernel_size=(5, 5), stride=(2, 2), padding=(2, 2))\n",
       "                (1): BatchNorm2d(64, eps=1e-05, momentum=0.1, affine=True)\n",
       "                (2): ReLU ()\n",
       "              )), ('d5', Sequential (\n",
       "                (0): Conv2d(64, 128, kernel_size=(5, 5), stride=(2, 2), padding=(2, 2))\n",
       "                (1): BatchNorm2d(128, eps=1e-05, momentum=0.1, affine=True)\n",
       "                (2): ReLU ()\n",
       "              )), ('mid', Sequential (\n",
       "                (0): Conv2d(128, 256, kernel_size=(5, 5), stride=(2, 2), padding=(2, 2))\n",
       "                (1): BatchNorm2d(256, eps=1e-05, momentum=0.1, affine=True)\n",
       "                (2): ReLU ()\n",
       "              )), ('u5', Sequential (\n",
       "                (0): ConvTranspose2d(256, 124, kernel_size=(4, 4), stride=(2, 2), padding=(1, 1))\n",
       "                (1): BatchNorm2d(124, eps=1e-05, momentum=0.1, affine=True)\n",
       "                (2): ReLU ()\n",
       "              )), ('u4', Sequential (\n",
       "                (0): ConvTranspose2d(128, 60, kernel_size=(4, 4), stride=(2, 2), padding=(1, 1))\n",
       "                (1): BatchNorm2d(60, eps=1e-05, momentum=0.1, affine=True)\n",
       "                (2): ReLU ()\n",
       "              )), ('u3', Sequential (\n",
       "                (0): ConvTranspose2d(64, 28, kernel_size=(4, 4), stride=(2, 2), padding=(1, 1))\n",
       "                (1): BatchNorm2d(28, eps=1e-05, momentum=0.1, affine=True)\n",
       "                (2): ReLU ()\n",
       "              )), ('u2', Sequential (\n",
       "                (0): ConvTranspose2d(32, 16, kernel_size=(4, 4), stride=(2, 2), padding=(1, 1))\n",
       "                (1): BatchNorm2d(16, eps=1e-05, momentum=0.1, affine=True)\n",
       "                (2): ReLU ()\n",
       "              )), ('u1', Sequential (\n",
       "                (0): ConvTranspose2d(16, 8, kernel_size=(4, 4), stride=(2, 2), padding=(1, 1))\n",
       "                (1): BatchNorm2d(8, eps=1e-05, momentum=0.1, affine=True)\n",
       "                (2): ReLU ()\n",
       "              )), ('out', Sequential (\n",
       "                (0): ConvTranspose2d(8, 3, kernel_size=(4, 4), stride=(2, 2), padding=(1, 1))\n",
       "                (1): BatchNorm2d(3, eps=1e-05, momentum=0.1, affine=True)\n",
       "                (2): Sigmoid ()\n",
       "              )), ('s5', Sequential (\n",
       "                (0): Conv2d(128, 4, kernel_size=(5, 5), stride=(1, 1), padding=(2, 2))\n",
       "                (1): BatchNorm2d(4, eps=1e-05, momentum=0.1, affine=True)\n",
       "                (2): ReLU ()\n",
       "              )), ('s4', Sequential (\n",
       "                (0): Conv2d(64, 4, kernel_size=(5, 5), stride=(1, 1), padding=(2, 2))\n",
       "                (1): BatchNorm2d(4, eps=1e-05, momentum=0.1, affine=True)\n",
       "                (2): ReLU ()\n",
       "              )), ('s3', Sequential (\n",
       "                (0): Conv2d(32, 4, kernel_size=(5, 5), stride=(1, 1), padding=(2, 2))\n",
       "                (1): BatchNorm2d(4, eps=1e-05, momentum=0.1, affine=True)\n",
       "                (2): ReLU ()\n",
       "              ))])"
      ]
     },
     "execution_count": 58,
     "metadata": {},
     "output_type": "execute_result"
    }
   ],
   "source": [
    "net =  hourglass_deconv_network()\n",
    "net._modules"
   ]
  },
  {
   "cell_type": "code",
   "execution_count": 59,
   "metadata": {},
   "outputs": [],
   "source": [
    "noise = Variable(torch.randn([1,3,512,512]))"
   ]
  },
  {
   "cell_type": "code",
   "execution_count": 60,
   "metadata": {},
   "outputs": [
    {
     "name": "stdout",
     "output_type": "stream",
     "text": [
      "torch.Size([1, 124, 16, 16])\n",
      "torch.Size([1, 4, 16, 16])\n",
      "torch.Size([1, 60, 32, 32])\n",
      "torch.Size([1, 4, 32, 32])\n",
      "torch.Size([1, 28, 64, 64])\n",
      "torch.Size([1, 4, 64, 64])\n"
     ]
    }
   ],
   "source": [
    "output = net(noise) "
   ]
  },
  {
   "cell_type": "code",
   "execution_count": null,
   "metadata": {
    "collapsed": true
   },
   "outputs": [],
   "source": []
  }
 ],
 "metadata": {
  "kernelspec": {
   "display_name": "Python 2",
   "language": "python",
   "name": "python2"
  },
  "language_info": {
   "codemirror_mode": {
    "name": "ipython",
    "version": 2
   },
   "file_extension": ".py",
   "mimetype": "text/x-python",
   "name": "python",
   "nbconvert_exporter": "python",
   "pygments_lexer": "ipython2",
   "version": "2.7.13"
  }
 },
 "nbformat": 4,
 "nbformat_minor": 2
}
