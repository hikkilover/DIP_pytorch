{
 "cells": [
  {
   "cell_type": "markdown",
   "metadata": {},
   "source": [
    "# DIP By HanXuan"
   ]
  },
  {
   "cell_type": "code",
   "execution_count": null,
   "metadata": {
    "collapsed": true
   },
   "outputs": [],
   "source": [
    "from __future__ import print_function\n",
    "import matplotlib.pyplot as plt\n",
    "%matplotlib inline\n",
    "\n",
    "import os\n",
    "os.environ['CUDA_VISIBLE_DEVICES'] = '3'\n",
    "import time\n",
    "\n",
    "import torch\n",
    "from torch.autograd import Variable\n",
    "\n",
    "from net.hourglass2 import hourglassNetwork\n",
    "from util.recorder import experimentalRecord\n",
    "from util.visual import *"
   ]
  },
  {
   "cell_type": "code",
   "execution_count": null,
   "metadata": {
    "collapsed": true
   },
   "outputs": [],
   "source": [
    "# standard deviation of added noise after each training set\n",
    "sigma = 1./30\n",
    "# number of training iterations\n",
    "num_steps = 5001\n",
    "# number of steps to take before saving an output image\n",
    "save_frequency = 500\n",
    "# choose either 'ps' or 'dc' as the architecture used.\n",
    "net_file = 'net/architecture/dmitry5_skip543.json'\n",
    "# input image. the architectures have been designed for 512x512 colour images\n",
    "image_path = 'images/image_Baboon512rgb_noi_s20.png'\n",
    "# where to put the output\n",
    "expName = 'image_Baboon512rgb_noi_s20_dmitry5_skip543_inputVib'\n",
    "expDiscribe = 'just as name'"
   ]
  },
  {
   "cell_type": "code",
   "execution_count": null,
   "metadata": {},
   "outputs": [],
   "source": [
    "record = experimentalRecord(basePath='../DIP_result/denoising',\n",
    "                            expName=expName,\n",
    "                            author='HanXuan',\n",
    "                            describe=expDiscribe,\n",
    "                            fileName='Experimental Record.txt')\n",
    "record.open()"
   ]
  },
  {
   "cell_type": "code",
   "execution_count": null,
   "metadata": {},
   "outputs": [],
   "source": [
    "# import image\n",
    "deconstructed = jpg_to_tensor(image_path)\n",
    "deconstructed = Variable(deconstructed)\n",
    "image_np = deconstructed.cpu().data.numpy()\n",
    "plot_image(image_np,(8,8))\n",
    "record.add_image(image=image_np,\n",
    "                imageName='origin.png',\n",
    "                message='Original deconstructed image.',\n",
    "                mode='NP')"
   ]
  },
  {
   "cell_type": "code",
   "execution_count": null,
   "metadata": {},
   "outputs": [],
   "source": [
    "# input of the network is noise\n",
    "noise = Variable(torch.randn(deconstructed.data.shape).cuda())\n",
    "\n",
    "#initialise the network with the chosen architecture\n",
    "net = hourglassNetwork(net_file)\n",
    "    \n",
    "#bind the network to the gpu if cuda is enabled\n",
    "\n",
    "net.cuda()\n",
    "start_time = time.time()\n",
    "#network optimizer set up\n",
    "learning_rate = lambda step: 1e-2 if (step<=2000) else 1e-3\n",
    "counter = 0\n",
    "optimizer = torch.optim.Adam(net.parameters(), lr=learning_rate(counter))\n",
    "#dummy index to provide names to output files\n",
    "save_img_ind = 0\n",
    "for step in range(num_steps):\n",
    "    # get the network output\n",
    "    output = net(noise)\n",
    "    # calculate the l2_loss over the masked output and take an optimizer step\n",
    "    optimizer.zero_grad()\n",
    "    loss = torch.sum((output - deconstructed)**2)\n",
    "    loss.backward()\n",
    "    optimizer.step()\n",
    "    counter += 1\n",
    "    #every save_frequency steps, save a jpg\n",
    "    if step % save_frequency == 0:\n",
    "        time_cost = time.time() - start_time\n",
    "        loss_value = loss.cpu().data.numpy()[-1]\n",
    "        # Cost time 236.978221s  At step 02000  loss is 28938.4121094\n",
    "        print_message='Cost time %fs'%(time_cost) + '  At step %05d  loss is %f' %(step, loss_value)\n",
    "        image_np = output.cpu().data.numpy()\n",
    "        plot_image(image_np,(10,10))\n",
    "        record.add_image(image=image_np,\n",
    "                         imageName=str(save_img_ind)+'.png',\n",
    "                         message=print_message,\n",
    "                         mode='NP')        \n",
    "        print(print_message)\n",
    "        save_img_ind += 1\n",
    "        noise.data += sigma * torch.randn([1,3,512,512]).cuda()\n"
   ]
  },
  {
   "cell_type": "code",
   "execution_count": null,
   "metadata": {
    "collapsed": true
   },
   "outputs": [],
   "source": [
    "record.close()"
   ]
  },
  {
   "cell_type": "code",
   "execution_count": null,
   "metadata": {
    "collapsed": true
   },
   "outputs": [],
   "source": []
  }
 ],
 "metadata": {
  "kernelspec": {
   "display_name": "Python 2",
   "language": "python",
   "name": "python2"
  },
  "language_info": {
   "codemirror_mode": {
    "name": "ipython",
    "version": 2
   },
   "file_extension": ".py",
   "mimetype": "text/x-python",
   "name": "python",
   "nbconvert_exporter": "python",
   "pygments_lexer": "ipython2",
   "version": "2.7.13"
  }
 },
 "nbformat": 4,
 "nbformat_minor": 2
}
